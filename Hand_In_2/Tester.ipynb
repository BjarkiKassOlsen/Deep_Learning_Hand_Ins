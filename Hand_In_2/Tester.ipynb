{
 "cells": [
  {
   "cell_type": "code",
   "execution_count": 144,
   "metadata": {},
   "outputs": [],
   "source": [
    "# Required libraries\n",
    "import torch\n",
    "import torch.nn as nn\n",
    "import torch.nn.functional as F\n",
    "import torch.optim as optim\n",
    "import time\n",
    "import math\n",
    "import random\n",
    "import matplotlib.pyplot as plt\n",
    "import matplotlib.ticker as ticker\n",
    "from torch.utils.data import DataLoader\n",
    "from functions.dateTrans import datesDataset  # Ensure this import works\n",
    "%matplotlib inline\n",
    "\n",
    "# Set the device\n",
    "device = torch.device(\"cuda:0\" if torch.cuda.is_available() else \"cpu\")"
   ]
  },
  {
   "cell_type": "code",
   "execution_count": 44,
   "metadata": {},
   "outputs": [],
   "source": [
    "# Prepare the dataset\n",
    "dataset = datesDataset()\n",
    "human_vocab = dataset.humanVocab\n",
    "machine_vocab = dataset.machineVocab\n",
    "max_length = dataset.outputLength"
   ]
  },
  {
   "cell_type": "code",
   "execution_count": 34,
   "metadata": {},
   "outputs": [],
   "source": [
    "# Assuming the <SOS> and <EOS> symbols are part of your vocabularies\n",
    "SOS_token = human_vocab['<SOS>']\n",
    "EOS_token = human_vocab['<EOS>']\n"
   ]
  },
  {
   "cell_type": "code",
   "execution_count": 35,
   "metadata": {},
   "outputs": [],
   "source": [
    "class EncoderRNN(nn.Module):\n",
    "    def __init__(self, input_size, hidden_size, dropout_p=0.1):\n",
    "        super(EncoderRNN, self).__init__()\n",
    "        self.hidden_size = hidden_size\n",
    "\n",
    "        self.embedding = nn.Embedding(input_size, hidden_size)\n",
    "        self.gru = nn.GRU(hidden_size, hidden_size, batch_first=True)\n",
    "        self.dropout = nn.Dropout(dropout_p)\n",
    "\n",
    "    def forward(self, input):\n",
    "        embedded = self.dropout(self.embedding(input))\n",
    "        output, hidden = self.gru(embedded)\n",
    "        return output, hidden"
   ]
  },
  {
   "cell_type": "code",
   "execution_count": 41,
   "metadata": {},
   "outputs": [],
   "source": [
    "class DecoderRNN(nn.Module):\n",
    "    def __init__(self, hidden_size, output_size):\n",
    "        super(DecoderRNN, self).__init__()\n",
    "        self.embedding = nn.Embedding(output_size, hidden_size)\n",
    "        self.gru = nn.GRU(hidden_size, hidden_size, batch_first=True)\n",
    "        self.out = nn.Linear(hidden_size, output_size)\n",
    "\n",
    "    def forward(self, encoder_outputs, encoder_hidden, target_tensor=None):\n",
    "        batch_size = encoder_outputs.size(0)\n",
    "        decoder_input = torch.empty(batch_size, 1, dtype=torch.long, device=device).fill_(SOS_token)\n",
    "        decoder_hidden = encoder_hidden\n",
    "        decoder_outputs = []\n",
    "\n",
    "        for i in range(max_length):\n",
    "            decoder_output, decoder_hidden = self.forward_step(decoder_input, decoder_hidden)\n",
    "            decoder_outputs.append(decoder_output)\n",
    "\n",
    "            if target_tensor is not None:\n",
    "                # Teacher forcing: Feed the target as the next input\n",
    "                decoder_input = target_tensor[:, i].unsqueeze(1) # Teacher forcing\n",
    "            else:\n",
    "                # Without teacher forcing: use its own predictions as the next input\n",
    "                _, topi = decoder_output.topk(1)\n",
    "                decoder_input = topi.squeeze(-1).detach()  # detach from history as input\n",
    "\n",
    "        decoder_outputs = torch.cat(decoder_outputs, dim=1)\n",
    "        decoder_outputs = F.log_softmax(decoder_outputs, dim=-1)\n",
    "        return decoder_outputs, decoder_hidden, None # We return `None` for consistency in the training loop\n",
    "\n",
    "    def forward_step(self, input, hidden):\n",
    "        output = self.embedding(input)\n",
    "        output = F.relu(output)\n",
    "        output, hidden = self.gru(output, hidden)\n",
    "        output = self.out(output)\n",
    "        return output, hidden"
   ]
  },
  {
   "cell_type": "code",
   "execution_count": 42,
   "metadata": {},
   "outputs": [],
   "source": [
    "def train_epoch(dataloader, encoder, decoder, encoder_optimizer,\n",
    "          decoder_optimizer, criterion):\n",
    "\n",
    "    total_loss = 0\n",
    "    for data in dataloader:\n",
    "        _, _, input_tensor, target_tensor = data\n",
    "\n",
    "        # Move tensors to the correct device\n",
    "        input_tensor = input_tensor.to(device)\n",
    "        target_tensor = target_tensor.to(device)\n",
    "\n",
    "        encoder_optimizer.zero_grad()\n",
    "        decoder_optimizer.zero_grad()\n",
    "\n",
    "        encoder_outputs, encoder_hidden = encoder(input_tensor)\n",
    "        decoder_outputs, _, _ = decoder(encoder_outputs, encoder_hidden, target_tensor)\n",
    "\n",
    "        loss = criterion(\n",
    "            decoder_outputs.view(-1, decoder_outputs.size(-1)),\n",
    "            target_tensor.view(-1)\n",
    "        )\n",
    "        loss.backward()\n",
    "\n",
    "        encoder_optimizer.step()\n",
    "        decoder_optimizer.step()\n",
    "\n",
    "        total_loss += loss.item()\n",
    "\n",
    "    return total_loss / len(dataloader)"
   ]
  },
  {
   "cell_type": "code",
   "execution_count": 147,
   "metadata": {},
   "outputs": [],
   "source": [
    "import time\n",
    "import math\n",
    "\n",
    "def asMinutes(s):\n",
    "    m = math.floor(s / 60)\n",
    "    s -= m * 60\n",
    "    return '%dm %ds' % (m, s)\n",
    "\n",
    "def timeSince(since, percent):\n",
    "    now = time.time()\n",
    "    s = now - since\n",
    "    es = s / (percent)\n",
    "    rs = es - s\n",
    "    return '%s (- %s)' % (asMinutes(s), asMinutes(rs))\n",
    "\n",
    "# import matplotlib.pyplot as plt\n",
    "# plt.switch_backend('agg')\n",
    "# import matplotlib.ticker as ticker\n",
    "# import numpy as np\n",
    "# %matplotlib inline\n",
    "\n",
    "# Plotting results\n",
    "def showPlot(points):\n",
    "    plt.figure()\n",
    "    fig, ax = plt.subplots()\n",
    "    # this locator puts ticks at regular intervals\n",
    "    loc = ticker.MultipleLocator(base=0.2)\n",
    "    ax.yaxis.set_major_locator(loc)\n",
    "    plt.plot(points)\n",
    "    # plt.show()\n",
    "\n",
    "# # Plotting results\n",
    "# def showPlot(points):\n",
    "#     plt.figure()\n",
    "#     fig, ax = plt.subplots()\n",
    "#     loc = ticker.MultipleLocator(base=0.2)\n",
    "#     ax.yaxis.set_major_locator(loc)\n",
    "#     plt.plot(points)"
   ]
  },
  {
   "cell_type": "code",
   "execution_count": 120,
   "metadata": {},
   "outputs": [],
   "source": [
    "def train(train_dataloader, encoder, decoder, n_epochs, learning_rate=0.001,\n",
    "               print_every=100, plot_every=100):\n",
    "    start = time.time()\n",
    "    plot_losses = []\n",
    "    print_loss_total = 0  # Reset every print_every\n",
    "    plot_loss_total = 0  # Reset every plot_every\n",
    "\n",
    "    encoder_optimizer = optim.Adam(encoder.parameters(), lr=learning_rate)\n",
    "    decoder_optimizer = optim.Adam(decoder.parameters(), lr=learning_rate)\n",
    "    criterion = nn.NLLLoss()\n",
    "\n",
    "    for epoch in range(1, n_epochs + 1):\n",
    "        loss = train_epoch(train_dataloader, encoder, decoder, encoder_optimizer, decoder_optimizer, criterion)\n",
    "        print_loss_total += loss\n",
    "        plot_loss_total += loss\n",
    "\n",
    "        if epoch % print_every == 0:\n",
    "            print_loss_avg = print_loss_total / print_every\n",
    "            print_loss_total = 0\n",
    "            print('%s (%d %d%%) %.4f' % (timeSince(start, epoch / n_epochs),\n",
    "                                        epoch, epoch / n_epochs * 100, print_loss_avg))\n",
    "\n",
    "        if epoch % plot_every == 0:\n",
    "            plot_loss_avg = plot_loss_total / plot_every\n",
    "            plot_losses.append(plot_loss_avg)\n",
    "            plot_loss_total = 0\n",
    "\n",
    "    showPlot(plot_losses)"
   ]
  },
  {
   "cell_type": "code",
   "execution_count": 161,
   "metadata": {},
   "outputs": [
    {
     "name": "stdout",
     "output_type": "stream",
     "text": [
      "0m 12s (- 1m 51s) (100 10%) 0.5905\n",
      "0m 24s (- 1m 38s) (200 20%) 0.2125\n",
      "0m 36s (- 1m 25s) (300 30%) 0.0715\n",
      "0m 48s (- 1m 12s) (400 40%) 0.0307\n",
      "1m 0s (- 1m 0s) (500 50%) 0.0158\n",
      "1m 12s (- 0m 48s) (600 60%) 0.0172\n",
      "1m 24s (- 0m 36s) (700 70%) 0.0143\n",
      "1m 36s (- 0m 24s) (800 80%) 0.0036\n",
      "1m 48s (- 0m 12s) (900 90%) 0.0099\n",
      "2m 0s (- 0m 0s) (1000 100%) 0.0221\n"
     ]
    },
    {
     "data": {
      "text/plain": [
       "<Figure size 640x480 with 0 Axes>"
      ]
     },
     "metadata": {},
     "output_type": "display_data"
    },
    {
     "data": {
      "image/png": "[encoded data removed]",
      "text/plain": [
       "<Figure size 640x480 with 1 Axes>"
      ]
     },
     "metadata": {},
     "output_type": "display_data"
    }
   ],
   "source": [
    "hidden_size = 1024\n",
    "batch_size_use = 32\n",
    "nsim = 1000\n",
    "\n",
    "# DataLoader to handle batching\n",
    "train_dataloader = DataLoader(dataset, batch_size=batch_size_use, shuffle=True)\n",
    "\n",
    "encoder = EncoderRNN(len(human_vocab), hidden_size).to(device)\n",
    "decoder = DecoderRNN(hidden_size, len(machine_vocab)).to(device)\n",
    "\n",
    "train(train_dataloader, encoder, decoder, n_epochs=nsim, print_every=(nsim/10), plot_every=(nsim/10))"
   ]
  },
  {
   "cell_type": "code",
   "execution_count": 130,
   "metadata": {},
   "outputs": [],
   "source": [
    "def evaluate(encoder, decoder, human_readable, human_vocab, max_length):\n",
    "    with torch.no_grad():\n",
    "        # Prepare the input tensor\n",
    "        input_tensor = torch.LongTensor(dataset.string_to_int(human_readable, max_length, human_vocab)).unsqueeze(0).to(device)\n",
    "\n",
    "        # Forward pass through encoder\n",
    "        encoder_outputs, encoder_hidden = encoder(input_tensor)\n",
    "\n",
    "        # Forward pass through decoder\n",
    "        decoder_outputs, decoder_hidden, _ = decoder(encoder_outputs, encoder_hidden)\n",
    "\n",
    "        # Take the top one word from the output\n",
    "        _, topi = decoder_outputs.topk(1)\n",
    "        decoded_ids = topi.squeeze().detach().cpu().numpy()\n",
    "\n",
    "        # Convert the indices to the machine readable date\n",
    "        decoded_words = [dataset.invMachineVocab[idx] for idx in decoded_ids if idx not in (dataset.humanVocab['<SOS>'], dataset.humanVocab['<EOS>'], dataset.humanVocab['<pad>'])]\n",
    "\n",
    "    return ''.join(decoded_words)"
   ]
  },
  {
   "cell_type": "code",
   "execution_count": 72,
   "metadata": {},
   "outputs": [],
   "source": [
    "def evaluateRandomly(encoder, decoder, dataset, n=10):\n",
    "    for i in range(n):\n",
    "        sample = random.choice([dataset[i] for i in range(len(dataset))])\n",
    "        human_readable, machine_readable, _, _ = sample\n",
    "\n",
    "        print('>', human_readable)\n",
    "        print('=', machine_readable)\n",
    "        \n",
    "        output_sentence = evaluate(encoder, decoder, human_readable, dataset.humanVocab, dataset.inputLength)\n",
    "        print('<', output_sentence)\n",
    "        print('')"
   ]
  },
  {
   "cell_type": "code",
   "execution_count": 133,
   "metadata": {},
   "outputs": [],
   "source": [
    "def compute_accuracy(encoder, decoder, dataset):\n",
    "    total_chars = 0\n",
    "    correct_chars = 0\n",
    "    for i in range(len(dataset)):\n",
    "        human_readable, machine_readable, _, _ = dataset[i]\n",
    "        prediction = evaluate(encoder, decoder, human_readable, dataset.humanVocab, dataset.inputLength)\n",
    "\n",
    "        # Ensure that the lengths of prediction and machine_readable are the same for character-wise comparison\n",
    "        min_length = min(len(prediction), len(machine_readable))\n",
    "        total_chars += min_length\n",
    "        correct_chars += sum(1 for j in range(min_length) if prediction[j] == machine_readable[j])\n",
    "\n",
    "        # If you also want to count the missing or extra characters as incorrect\n",
    "        total_chars += abs(len(prediction) - len(machine_readable))\n",
    "\n",
    "    accuracy = correct_chars / total_chars if total_chars > 0 else 0\n",
    "    return accuracy\n"
   ]
  },
  {
   "cell_type": "code",
   "execution_count": 170,
   "metadata": {},
   "outputs": [
    {
     "name": "stdout",
     "output_type": "stream",
     "text": [
      "> 17.05.1980\n",
      "= 1980-05-17\n",
      "< 1980-05-17\n",
      "\n",
      "> 27. jan. 2005\n",
      "= 2005-01-27\n",
      "< 2005-01-27\n",
      "\n",
      "> 10 okt. 1997\n",
      "= 1997-10-10\n",
      "< 1997-10-10\n",
      "\n",
      "> lørdag den 28. juli 1990\n",
      "= 1990-07-28\n",
      "< 1990-07-28\n",
      "\n",
      "> 27/01/2017\n",
      "= 2017-01-27\n",
      "< 2017-01-27\n",
      "\n",
      "> 26. november 1999\n",
      "= 1999-11-26\n",
      "< 1999-11-26\n",
      "\n",
      "> 26.04.2005\n",
      "= 2005-04-26\n",
      "< 2005-04-26\n",
      "\n"
     ]
    }
   ],
   "source": [
    "encoder.eval()\n",
    "decoder.eval()\n",
    "evaluateRandomly(encoder, decoder, dataset, n=7)"
   ]
  },
  {
   "cell_type": "code",
   "execution_count": 167,
   "metadata": {},
   "outputs": [
    {
     "name": "stdout",
     "output_type": "stream",
     "text": [
      "Model accuracy: 100.00%\n"
     ]
    }
   ],
   "source": [
    "from faker import Faker\n",
    "fake = Faker()\n",
    "\n",
    "Faker.seed(101)\n",
    "random.seed(101)\n",
    "\n",
    "accuracy = compute_accuracy(encoder, decoder, dataset) * 100\n",
    "print(f\"Model accuracy: {accuracy:.2f}%\")"
   ]
  }
 ],
 "metadata": {
  "kernelspec": {
   "display_name": "base",
   "language": "python",
   "name": "python3"
  },
  "language_info": {
   "codemirror_mode": {
    "name": "ipython",
    "version": 3
   },
   "file_extension": ".py",
   "mimetype": "text/x-python",
   "name": "python",
   "nbconvert_exporter": "python",
   "pygments_lexer": "ipython3",
   "version": "3.11.5"
  }
 },
 "nbformat": 4,
 "nbformat_minor": 2
}
